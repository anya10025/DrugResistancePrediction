{
  "cells": [
    {
      "cell_type": "markdown",
      "metadata": {
        "id": "view-in-github",
        "colab_type": "text"
      },
      "source": [
        "<a href=\"https://colab.research.google.com/github/anya10025/DrugResistancePrediction/blob/main/updated_tfl_and_graph_detailed_hands_on_ipynb_Anya_K.ipynb\" target=\"_parent\"><img src=\"https://colab.research.google.com/assets/colab-badge.svg\" alt=\"Open In Colab\"/></a>"
      ]
    },
    {
      "cell_type": "markdown",
      "metadata": {
        "id": "V_NZJ1W2M0D4"
      },
      "source": [
        "##Data from safetyData package"
      ]
    },
    {
      "cell_type": "code",
      "execution_count": 1,
      "metadata": {
        "colab": {
          "base_uri": "https://localhost:8080/"
        },
        "id": "OGmI4L812AnD",
        "outputId": "5d65be6e-e12b-4f5e-d754-c0604f8861be"
      },
      "outputs": [
        {
          "output_type": "stream",
          "name": "stdout",
          "text": [
            "Reading package lists... Done\n",
            "Building dependency tree... Done\n",
            "Reading state information... Done\n",
            "r-base is already the newest version (4.5.1-1.2204.0).\n",
            "0 upgraded, 0 newly installed, 0 to remove and 35 not upgraded.\n",
            "Requirement already satisfied: rpy2 in /usr/local/lib/python3.11/dist-packages (3.5.17)\n",
            "Requirement already satisfied: cffi>=1.15.1 in /usr/local/lib/python3.11/dist-packages (from rpy2) (1.17.1)\n",
            "Requirement already satisfied: jinja2 in /usr/local/lib/python3.11/dist-packages (from rpy2) (3.1.6)\n",
            "Requirement already satisfied: tzlocal in /usr/local/lib/python3.11/dist-packages (from rpy2) (5.3.1)\n",
            "Requirement already satisfied: pycparser in /usr/local/lib/python3.11/dist-packages (from cffi>=1.15.1->rpy2) (2.22)\n",
            "Requirement already satisfied: MarkupSafe>=2.0 in /usr/local/lib/python3.11/dist-packages (from jinja2->rpy2) (3.0.2)\n"
          ]
        },
        {
          "output_type": "stream",
          "name": "stderr",
          "text": [
            "WARNING:rpy2.rinterface_lib.callbacks:R[write to console]: Installing package into ‘/usr/local/lib/R/site-library’\n",
            "(as ‘lib’ is unspecified)\n",
            "\n",
            "WARNING:rpy2.rinterface_lib.callbacks:R[write to console]: trying URL 'http://cran.r-project.org/src/contrib/safetyData_1.0.0.tar.gz'\n",
            "\n",
            "WARNING:rpy2.rinterface_lib.callbacks:R[write to console]: Content type 'application/x-gzip'\n",
            "WARNING:rpy2.rinterface_lib.callbacks:R[write to console]:  length 1843635 bytes (1.8 MB)\n",
            "\n",
            "WARNING:rpy2.rinterface_lib.callbacks:R[write to console]: =\n",
            "WARNING:rpy2.rinterface_lib.callbacks:R[write to console]: =\n",
            "WARNING:rpy2.rinterface_lib.callbacks:R[write to console]: =\n",
            "WARNING:rpy2.rinterface_lib.callbacks:R[write to console]: =\n",
            "WARNING:rpy2.rinterface_lib.callbacks:R[write to console]: =\n",
            "WARNING:rpy2.rinterface_lib.callbacks:R[write to console]: =\n",
            "WARNING:rpy2.rinterface_lib.callbacks:R[write to console]: =\n",
            "WARNING:rpy2.rinterface_lib.callbacks:R[write to console]: =\n",
            "WARNING:rpy2.rinterface_lib.callbacks:R[write to console]: =\n",
            "WARNING:rpy2.rinterface_lib.callbacks:R[write to console]: =\n",
            "WARNING:rpy2.rinterface_lib.callbacks:R[write to console]: =\n",
            "WARNING:rpy2.rinterface_lib.callbacks:R[write to console]: =\n",
            "WARNING:rpy2.rinterface_lib.callbacks:R[write to console]: =\n",
            "WARNING:rpy2.rinterface_lib.callbacks:R[write to console]: =\n",
            "WARNING:rpy2.rinterface_lib.callbacks:R[write to console]: =\n",
            "WARNING:rpy2.rinterface_lib.callbacks:R[write to console]: =\n",
            "WARNING:rpy2.rinterface_lib.callbacks:R[write to console]: =\n",
            "WARNING:rpy2.rinterface_lib.callbacks:R[write to console]: =\n",
            "WARNING:rpy2.rinterface_lib.callbacks:R[write to console]: =\n",
            "WARNING:rpy2.rinterface_lib.callbacks:R[write to console]: =\n",
            "WARNING:rpy2.rinterface_lib.callbacks:R[write to console]: =\n",
            "WARNING:rpy2.rinterface_lib.callbacks:R[write to console]: =\n",
            "WARNING:rpy2.rinterface_lib.callbacks:R[write to console]: =\n",
            "WARNING:rpy2.rinterface_lib.callbacks:R[write to console]: =\n",
            "WARNING:rpy2.rinterface_lib.callbacks:R[write to console]: =\n",
            "WARNING:rpy2.rinterface_lib.callbacks:R[write to console]: =\n",
            "WARNING:rpy2.rinterface_lib.callbacks:R[write to console]: =\n",
            "WARNING:rpy2.rinterface_lib.callbacks:R[write to console]: =\n",
            "WARNING:rpy2.rinterface_lib.callbacks:R[write to console]: =\n",
            "WARNING:rpy2.rinterface_lib.callbacks:R[write to console]: =\n",
            "WARNING:rpy2.rinterface_lib.callbacks:R[write to console]: =\n",
            "WARNING:rpy2.rinterface_lib.callbacks:R[write to console]: =\n",
            "WARNING:rpy2.rinterface_lib.callbacks:R[write to console]: =\n",
            "WARNING:rpy2.rinterface_lib.callbacks:R[write to console]: =\n",
            "WARNING:rpy2.rinterface_lib.callbacks:R[write to console]: =\n",
            "WARNING:rpy2.rinterface_lib.callbacks:R[write to console]: =\n",
            "WARNING:rpy2.rinterface_lib.callbacks:R[write to console]: =\n",
            "WARNING:rpy2.rinterface_lib.callbacks:R[write to console]: =\n",
            "WARNING:rpy2.rinterface_lib.callbacks:R[write to console]: =\n",
            "WARNING:rpy2.rinterface_lib.callbacks:R[write to console]: =\n",
            "WARNING:rpy2.rinterface_lib.callbacks:R[write to console]: =\n",
            "WARNING:rpy2.rinterface_lib.callbacks:R[write to console]: =\n",
            "WARNING:rpy2.rinterface_lib.callbacks:R[write to console]: =\n",
            "WARNING:rpy2.rinterface_lib.callbacks:R[write to console]: =\n",
            "WARNING:rpy2.rinterface_lib.callbacks:R[write to console]: =\n",
            "WARNING:rpy2.rinterface_lib.callbacks:R[write to console]: =\n",
            "WARNING:rpy2.rinterface_lib.callbacks:R[write to console]: =\n",
            "WARNING:rpy2.rinterface_lib.callbacks:R[write to console]: =\n",
            "WARNING:rpy2.rinterface_lib.callbacks:R[write to console]: =\n",
            "WARNING:rpy2.rinterface_lib.callbacks:R[write to console]: =\n",
            "WARNING:rpy2.rinterface_lib.callbacks:R[write to console]: \n",
            "\n",
            "WARNING:rpy2.rinterface_lib.callbacks:R[write to console]: downloaded 1.8 MB\n",
            "\n",
            "\n",
            "WARNING:rpy2.rinterface_lib.callbacks:R[write to console]: \n",
            "\n",
            "WARNING:rpy2.rinterface_lib.callbacks:R[write to console]: \n",
            "WARNING:rpy2.rinterface_lib.callbacks:R[write to console]: The downloaded source packages are in\n",
            "\t‘/tmp/RtmpicXL8E/downloaded_packages’\n",
            "WARNING:rpy2.rinterface_lib.callbacks:R[write to console]: \n",
            "WARNING:rpy2.rinterface_lib.callbacks:R[write to console]: \n",
            "\n"
          ]
        },
        {
          "output_type": "stream",
          "name": "stdout",
          "text": [
            "Loaded dataset: adam_adae\n",
            "Loaded dataset: adam_adlbc\n",
            "Loaded dataset: adam_adlbh\n",
            "Loaded dataset: adam_adlbhy\n",
            "Loaded dataset: adam_adqsadas\n",
            "Loaded dataset: adam_adqscibc\n",
            "Loaded dataset: adam_adqsnpix\n",
            "Loaded dataset: adam_adsl\n",
            "Loaded dataset: adam_adtte\n",
            "Loaded dataset: adam_advs\n",
            "Loaded dataset: sdtm_ae\n",
            "Loaded dataset: sdtm_cm\n",
            "Loaded dataset: sdtm_dm\n",
            "Loaded dataset: sdtm_ds\n",
            "Loaded dataset: sdtm_ex\n",
            "Loaded dataset: sdtm_lb\n",
            "Loaded dataset: sdtm_mh\n",
            "Loaded dataset: sdtm_qs\n",
            "Loaded dataset: sdtm_relrec\n",
            "Loaded dataset: sdtm_sc\n",
            "Loaded dataset: sdtm_se\n",
            "Loaded dataset: sdtm_suppae\n",
            "Loaded dataset: sdtm_suppdm\n",
            "Loaded dataset: sdtm_suppds\n",
            "Loaded dataset: sdtm_supplb\n",
            "Loaded dataset: sdtm_sv\n",
            "Loaded dataset: sdtm_ta\n",
            "Loaded dataset: sdtm_te\n",
            "Loaded dataset: sdtm_ti\n",
            "Loaded dataset: sdtm_ts\n",
            "Loaded dataset: sdtm_tv\n",
            "Loaded dataset: sdtm_vs\n",
            "Loaded SDTM datasets:\n",
            "dict_keys(['adam_adae', 'adam_adlbc', 'adam_adlbh', 'adam_adlbhy', 'adam_adqsadas', 'adam_adqscibc', 'adam_adqsnpix', 'adam_adsl', 'adam_adtte', 'adam_advs', 'sdtm_ae', 'sdtm_cm', 'sdtm_dm', 'sdtm_ds', 'sdtm_ex', 'sdtm_lb', 'sdtm_mh', 'sdtm_qs', 'sdtm_relrec', 'sdtm_sc', 'sdtm_se', 'sdtm_suppae', 'sdtm_suppdm', 'sdtm_suppds', 'sdtm_supplb', 'sdtm_sv', 'sdtm_ta', 'sdtm_te', 'sdtm_ti', 'sdtm_ts', 'sdtm_tv', 'sdtm_vs'])\n",
            "        STUDYID DOMAIN      USUBJID  SUBJID     RFSTDTC     RFENDTC  \\\n",
            "1  CDISCPILOT01     DM  01-701-1015    1015  2014-01-02  2014-07-02   \n",
            "2  CDISCPILOT01     DM  01-701-1023    1023  2012-08-05  2012-09-02   \n",
            "3  CDISCPILOT01     DM  01-701-1028    1028  2013-07-19  2014-01-14   \n",
            "4  CDISCPILOT01     DM  01-701-1033    1033  2014-03-18  2014-04-14   \n",
            "5  CDISCPILOT01     DM  01-701-1034    1034  2014-07-01  2014-12-30   \n",
            "\n",
            "     RFXSTDTC    RFXENDTC     RFICDTC          RFPENDTC  ... SEX   RACE  \\\n",
            "1  2014-01-02  2014-07-02 -2147483648  2014-07-02T11:45  ...   F  WHITE   \n",
            "2  2012-08-05  2012-09-01 -2147483648        2013-02-18  ...   M  WHITE   \n",
            "3  2013-07-19  2014-01-14 -2147483648  2014-01-14T11:10  ...   M  WHITE   \n",
            "4  2014-03-18  2014-03-31 -2147483648        2014-09-15  ...   M  WHITE   \n",
            "5  2014-07-01  2014-12-30 -2147483648  2014-12-30T09:50  ...   F  WHITE   \n",
            "\n",
            "                   ETHNIC   ARMCD                   ARM ACTARMCD  \\\n",
            "1      HISPANIC OR LATINO     Pbo               Placebo      Pbo   \n",
            "2      HISPANIC OR LATINO     Pbo               Placebo      Pbo   \n",
            "3  NOT HISPANIC OR LATINO  Xan_Hi  Xanomeline High Dose   Xan_Hi   \n",
            "4  NOT HISPANIC OR LATINO  Xan_Lo   Xanomeline Low Dose   Xan_Lo   \n",
            "5  NOT HISPANIC OR LATINO  Xan_Hi  Xanomeline High Dose   Xan_Hi   \n",
            "\n",
            "                 ACTARM COUNTRY       DMDTC DMDY  \n",
            "1               Placebo     USA  2013-12-26   -7  \n",
            "2               Placebo     USA  2012-07-22  -14  \n",
            "3  Xanomeline High Dose     USA  2013-07-11   -8  \n",
            "4   Xanomeline Low Dose     USA  2014-03-10   -8  \n",
            "5  Xanomeline High Dose     USA  2014-06-24   -7  \n",
            "\n",
            "[5 rows x 25 columns]\n"
          ]
        }
      ],
      "source": [
        "# Step 1: Install required packages\n",
        "!apt-get install -y r-base\n",
        "!pip install rpy2\n",
        "\n",
        "# Step 2: Load R and install the safetyData package\n",
        "import os\n",
        "\n",
        "# Set up environment for R installation\n",
        "os.environ['R_HOME'] = '/usr/lib/R'\n",
        "os.environ['R_USER'] = '/root'\n",
        "\n",
        "# Import rpy2 for R-Python integration\n",
        "import rpy2.robjects as robjects\n",
        "from rpy2.robjects.packages import importr\n",
        "\n",
        "# Install safetyData package in R\n",
        "robjects.r('install.packages(\"safetyData\", repos=\"http://cran.r-project.org\")')\n",
        "\n",
        "# Step 3: Load the safetyData package\n",
        "safetyData = importr('safetyData')\n",
        "robjects.r('library(safetyData)')\n",
        "\n",
        "# Step 4: Get all SDTM datasets\n",
        "# List all objects (datasets) in the safetyData package\n",
        "datasets = robjects.r('data(package=\"safetyData\")$results[, \"Item\"]')\n",
        "\n",
        "# Step 5: Load each dataset and convert to pandas dataframe\n",
        "import pandas as pd\n",
        "from rpy2.robjects import pandas2ri\n",
        "\n",
        "pandas2ri.activate()\n",
        "\n",
        "# Create a dictionary to store all datasets\n",
        "sdtm_dataframes = {}\n",
        "\n",
        "# Loop through all SDTM datasets and load them into Python\n",
        "for dataset_name in datasets:\n",
        "    try:\n",
        "        # Load dataset in R\n",
        "        data = robjects.r(f'{dataset_name}')\n",
        "\n",
        "        # Convert R dataframe to pandas dataframe\n",
        "        df = pandas2ri.rpy2py(data)\n",
        "\n",
        "        # Store in dictionary\n",
        "        sdtm_dataframes[dataset_name] = df\n",
        "\n",
        "        print(f\"Loaded dataset: {dataset_name}\")\n",
        "    except Exception as e:\n",
        "        print(f\"Could not load dataset {dataset_name}: {e}\")\n",
        "\n",
        "# Step 6: Display the names of loaded datasets\n",
        "print(\"Loaded SDTM datasets:\")\n",
        "print(sdtm_dataframes.keys())\n",
        "\n",
        "# Example: Access a specific dataset (e.g., 'sdtm_dm')\n",
        "if 'sdtm_dm' in sdtm_dataframes:\n",
        "    print(sdtm_dataframes['sdtm_dm'].head())"
      ]
    },
    {
      "cell_type": "markdown",
      "source": [
        "#TABLES"
      ],
      "metadata": {
        "id": "YPNsNvy0PmrO"
      }
    },
    {
      "cell_type": "markdown",
      "source": [
        "##Overview of Adverse Events"
      ],
      "metadata": {
        "id": "Ig6kRaLsP961"
      }
    },
    {
      "cell_type": "markdown",
      "source": [
        "Review Dataset"
      ],
      "metadata": {
        "id": "4B3Z9-JOQnrM"
      }
    },
    {
      "cell_type": "code",
      "source": [
        " # Check if 'sdtm_dm' dataset exists\n",
        "if 'adam_adae' in sdtm_dataframes:\n",
        "    # Load the dataset\n",
        "    df = sdtm_dataframes['adam_adae']\n",
        "\n",
        "\n",
        "    # Display basic structure (similar to PROC CONTENTS)\n",
        "    print(\"\\nStructure:\")\n",
        "    print(df.info())\n",
        "\n",
        "    # Display column names and data types\n",
        "    print(\"\\nColumn Names and Data Types:\")\n",
        "    print(df.dtypes)\n",
        "\n",
        "    # Display first few rows\n",
        "    print(\"\\nFirst Few Rows:\")\n",
        "    print(df.head())\n",
        "\n",
        "    ae_data=df"
      ],
      "metadata": {
        "colab": {
          "base_uri": "https://localhost:8080/"
        },
        "collapsed": true,
        "id": "OhDwRhK0QOYN",
        "outputId": "d6f68c97-9c3e-4b0f-beec-fa532c3ad578"
      },
      "execution_count": 2,
      "outputs": [
        {
          "output_type": "stream",
          "name": "stdout",
          "text": [
            "\n",
            "Structure:\n",
            "<class 'pandas.core.frame.DataFrame'>\n",
            "Index: 1191 entries, 1 to 1191\n",
            "Data columns (total 55 columns):\n",
            " #   Column    Non-Null Count  Dtype  \n",
            "---  ------    --------------  -----  \n",
            " 0   STUDYID   1191 non-null   object \n",
            " 1   SITEID    1191 non-null   object \n",
            " 2   USUBJID   1191 non-null   object \n",
            " 3   TRTA      1191 non-null   object \n",
            " 4   TRTAN     1191 non-null   float64\n",
            " 5   AGE       1191 non-null   float64\n",
            " 6   AGEGR1    1191 non-null   object \n",
            " 7   AGEGR1N   1191 non-null   float64\n",
            " 8   RACE      1191 non-null   object \n",
            " 9   RACEN     1191 non-null   float64\n",
            " 10  SEX       1191 non-null   object \n",
            " 11  SAFFL     1191 non-null   object \n",
            " 12  TRTSDT    1191 non-null   float64\n",
            " 13  TRTEDT    1191 non-null   float64\n",
            " 14  ASTDT     1180 non-null   float64\n",
            " 15  ASTDTF    1191 non-null   object \n",
            " 16  ASTDY     1180 non-null   float64\n",
            " 17  AENDT     718 non-null    float64\n",
            " 18  AENDY     718 non-null    float64\n",
            " 19  ADURN     714 non-null    float64\n",
            " 20  ADURU     1191 non-null   object \n",
            " 21  AETERM    1191 non-null   object \n",
            " 22  AELLT     1191 non-null   object \n",
            " 23  AELLTCD   0 non-null      float64\n",
            " 24  AEDECOD   1191 non-null   object \n",
            " 25  AEPTCD    0 non-null      float64\n",
            " 26  AEHLT     1191 non-null   object \n",
            " 27  AEHLTCD   0 non-null      float64\n",
            " 28  AEHLGT    1191 non-null   object \n",
            " 29  AEHLGTCD  0 non-null      float64\n",
            " 30  AEBODSYS  1191 non-null   object \n",
            " 31  AESOC     1191 non-null   object \n",
            " 32  AESOCCD   0 non-null      float64\n",
            " 33  AESEV     1191 non-null   object \n",
            " 34  AESER     1191 non-null   object \n",
            " 35  AESCAN    1191 non-null   object \n",
            " 36  AESCONG   1191 non-null   object \n",
            " 37  AESDISAB  1191 non-null   object \n",
            " 38  AESDTH    1191 non-null   object \n",
            " 39  AESHOSP   1191 non-null   object \n",
            " 40  AESLIFE   1191 non-null   object \n",
            " 41  AESOD     1191 non-null   object \n",
            " 42  AEREL     1191 non-null   object \n",
            " 43  AEACN     1191 non-null   object \n",
            " 44  AEOUT     1191 non-null   object \n",
            " 45  AESEQ     1191 non-null   float64\n",
            " 46  TRTEMFL   1191 non-null   object \n",
            " 47  AOCCFL    1191 non-null   object \n",
            " 48  AOCCSFL   1191 non-null   object \n",
            " 49  AOCCPFL   1191 non-null   object \n",
            " 50  AOCC02FL  1191 non-null   object \n",
            " 51  AOCC03FL  1191 non-null   object \n",
            " 52  AOCC04FL  1191 non-null   object \n",
            " 53  CQ01NAM   1191 non-null   object \n",
            " 54  AOCC01FL  1191 non-null   object \n",
            "dtypes: float64(17), object(38)\n",
            "memory usage: 521.1+ KB\n",
            "None\n",
            "\n",
            "Column Names and Data Types:\n",
            "STUDYID      object\n",
            "SITEID       object\n",
            "USUBJID      object\n",
            "TRTA         object\n",
            "TRTAN       float64\n",
            "AGE         float64\n",
            "AGEGR1       object\n",
            "AGEGR1N     float64\n",
            "RACE         object\n",
            "RACEN       float64\n",
            "SEX          object\n",
            "SAFFL        object\n",
            "TRTSDT      float64\n",
            "TRTEDT      float64\n",
            "ASTDT       float64\n",
            "ASTDTF       object\n",
            "ASTDY       float64\n",
            "AENDT       float64\n",
            "AENDY       float64\n",
            "ADURN       float64\n",
            "ADURU        object\n",
            "AETERM       object\n",
            "AELLT        object\n",
            "AELLTCD     float64\n",
            "AEDECOD      object\n",
            "AEPTCD      float64\n",
            "AEHLT        object\n",
            "AEHLTCD     float64\n",
            "AEHLGT       object\n",
            "AEHLGTCD    float64\n",
            "AEBODSYS     object\n",
            "AESOC        object\n",
            "AESOCCD     float64\n",
            "AESEV        object\n",
            "AESER        object\n",
            "AESCAN       object\n",
            "AESCONG      object\n",
            "AESDISAB     object\n",
            "AESDTH       object\n",
            "AESHOSP      object\n",
            "AESLIFE      object\n",
            "AESOD        object\n",
            "AEREL        object\n",
            "AEACN        object\n",
            "AEOUT        object\n",
            "AESEQ       float64\n",
            "TRTEMFL      object\n",
            "AOCCFL       object\n",
            "AOCCSFL      object\n",
            "AOCCPFL      object\n",
            "AOCC02FL     object\n",
            "AOCC03FL     object\n",
            "AOCC04FL     object\n",
            "CQ01NAM      object\n",
            "AOCC01FL     object\n",
            "dtype: object\n",
            "\n",
            "First Few Rows:\n",
            "        STUDYID SITEID      USUBJID     TRTA  TRTAN   AGE AGEGR1  AGEGR1N  \\\n",
            "1  CDISCPILOT01    701  01-701-1015  Placebo    0.0  63.0    <65      1.0   \n",
            "2  CDISCPILOT01    701  01-701-1015  Placebo    0.0  63.0    <65      1.0   \n",
            "3  CDISCPILOT01    701  01-701-1015  Placebo    0.0  63.0    <65      1.0   \n",
            "4  CDISCPILOT01    701  01-701-1023  Placebo    0.0  64.0    <65      1.0   \n",
            "5  CDISCPILOT01    701  01-701-1023  Placebo    0.0  64.0    <65      1.0   \n",
            "\n",
            "    RACE  RACEN  ... AESEQ TRTEMFL  AOCCFL  AOCCSFL  AOCCPFL AOCC02FL  \\\n",
            "1  WHITE    1.0  ...   1.0       Y       Y        Y        Y            \n",
            "2  WHITE    1.0  ...   2.0       Y                         Y            \n",
            "3  WHITE    1.0  ...   3.0       Y                Y        Y            \n",
            "4  WHITE    1.0  ...   1.0       Y       Y        Y        Y            \n",
            "5  WHITE    1.0  ...   2.0       Y                                      \n",
            "\n",
            "   AOCC03FL  AOCC04FL              CQ01NAM  AOCC01FL  \n",
            "1                      DERMATOLOGIC EVENTS         Y  \n",
            "2                      DERMATOLOGIC EVENTS            \n",
            "3                                                     \n",
            "4                      DERMATOLOGIC EVENTS         Y  \n",
            "5                      DERMATOLOGIC EVENTS            \n",
            "\n",
            "[5 rows x 55 columns]\n"
          ]
        }
      ]
    },
    {
      "cell_type": "markdown",
      "source": [
        "Summarize AE and Create Overview"
      ],
      "metadata": {
        "id": "ddnoW03AQsGL"
      }
    },
    {
      "cell_type": "code",
      "source": [
        "# Group by treatment arm and severity, and count the number of adverse events\n",
        "ae_summary = ae_data.groupby(['TRTA', 'AESEV']).size().reset_index(name='Count')\n",
        "\n",
        "# Display the summary table\n",
        "print(ae_summary)\n",
        "\n",
        "# Summarize data for overview table\n",
        "overview_table = ae_data.groupby('TRTA').agg(\n",
        "    Total_AEs=('USUBJID', 'count'),\n",
        "    Unique_Subjects=('USUBJID', 'nunique'),\n",
        "    Mild_AEs=('AESEV', lambda x: (x == 'MILD').sum()),\n",
        "    Moderate_AEs=('AESEV', lambda x: (x == 'MODERATE').sum()),\n",
        "    Severe_AEs=('AESEV', lambda x: (x == 'SEVERE').sum())\n",
        ").reset_index()\n",
        "\n",
        "# Display the overview table\n",
        "print(overview_table)"
      ],
      "metadata": {
        "colab": {
          "base_uri": "https://localhost:8080/"
        },
        "id": "ty493bnXQeYK",
        "outputId": "8855a1c1-bbb5-4354-dec4-945fb3ed7ccc"
      },
      "execution_count": 3,
      "outputs": [
        {
          "output_type": "stream",
          "name": "stdout",
          "text": [
            "                   TRTA     AESEV  Count\n",
            "0               Placebo      MILD    219\n",
            "1               Placebo  MODERATE     74\n",
            "2               Placebo    SEVERE      8\n",
            "3  Xanomeline High Dose      MILD    306\n",
            "4  Xanomeline High Dose  MODERATE    139\n",
            "5  Xanomeline High Dose    SEVERE     10\n",
            "6   Xanomeline Low Dose      MILD    245\n",
            "7   Xanomeline Low Dose  MODERATE    165\n",
            "8   Xanomeline Low Dose    SEVERE     25\n",
            "                   TRTA  Total_AEs  Unique_Subjects  Mild_AEs  Moderate_AEs  \\\n",
            "0               Placebo        301               69       219            74   \n",
            "1  Xanomeline High Dose        455               79       306           139   \n",
            "2   Xanomeline Low Dose        435               77       245           165   \n",
            "\n",
            "   Severe_AEs  \n",
            "0           8  \n",
            "1          10  \n",
            "2          25  \n"
          ]
        }
      ]
    },
    {
      "cell_type": "markdown",
      "source": [
        "Visualize Adverse Events"
      ],
      "metadata": {
        "id": "9izIwc2HRdJP"
      }
    },
    {
      "cell_type": "code",
      "source": [
        "import seaborn as sns\n",
        "import matplotlib.pyplot as plt\n",
        "\n",
        "# Bar plot of adverse events by severity and treatment arm\n",
        "plt.figure(figsize=(10, 6))\n",
        "sns.barplot(data=ae_summary, x='TRTA', y='Count', hue='AESEV')\n",
        "plt.title('Adverse Events by Severity and Treatment Arm')\n",
        "plt.xlabel('Treatment Arm')\n",
        "plt.ylabel('Number of Adverse Events')\n",
        "plt.legend(title='Severity')\n",
        "plt.show()"
      ],
      "metadata": {
        "colab": {
          "base_uri": "https://localhost:8080/",
          "height": 564
        },
        "id": "qFE9avKZRhdQ",
        "outputId": "3d42794f-041e-4dd8-f7cd-4cd62f216ae9"
      },
      "execution_count": 4,
      "outputs": [
        {
          "output_type": "display_data",
          "data": {
            "text/plain": [
              "<Figure size 1000x600 with 1 Axes>"
            ],
            "image/png": "[encoded data removed]"
          },
          "metadata": {}
        }
      ]
    },
    {
      "cell_type": "code",
      "source": [
        "import seaborn as sns\n",
        "import matplotlib.pyplot as plt\n",
        "\n",
        "# Bar plot of adverse events by severity and treatment arm\n",
        "plt.figure(figsize=(10, 6))\n",
        "sns.barplot(data=ae_summary, x='TRTA', y='Count', hue='AESEV')\n",
        "sns.color_palette('muted')\n",
        "plt.title('Adverse Events by Severity and Treatment Arm')\n",
        "plt.xlabel('Treatment Groups')\n",
        "plt.ylabel('Number of Unique Adverse Events')\n",
        "plt.legend(title='Severity')\n",
        "plt.show()"
      ],
      "metadata": {
        "colab": {
          "base_uri": "https://localhost:8080/",
          "height": 564
        },
        "id": "_Lxf2pbfH74M",
        "outputId": "1a60d715-89c1-460e-9e13-e9c52652b838"
      },
      "execution_count": 5,
      "outputs": [
        {
          "output_type": "display_data",
          "data": {
            "text/plain": [
              "<Figure size 1000x600 with 1 Axes>"
            ],
            "image/png": "[encoded data removed]"
          },
          "metadata": {}
        }
      ]
    },
    {
      "cell_type": "markdown",
      "source": [
        "saftey population example"
      ],
      "metadata": {
        "id": "M_jbTCdnCN2W"
      }
    },
    {
      "cell_type": "code",
      "source": [
        " # Check if 'sdtm_dm' dataset exists\n",
        "if 'adam_adae' in sdtm_dataframes:\n",
        "    # Load the dataset\n",
        "    df = sdtm_dataframes['adam_adae']\n",
        "\n",
        "\n",
        "    # Display basic structure (similar to PROC CONTENTS)\n",
        "    print(\"\\nStructure:\")\n",
        "    print(df.info())\n",
        "\n",
        "    # Display column names and data types\n",
        "    print(\"\\nColumn Names and Data Types:\")\n",
        "    print(df.dtypes)\n",
        "\n",
        "    # Display first few rows\n",
        "    print(\"\\nFirst Few Rows:\")\n",
        "    print(df.head())\n",
        "\n",
        "    ae_data=df"
      ],
      "metadata": {
        "colab": {
          "base_uri": "https://localhost:8080/"
        },
        "collapsed": true,
        "outputId": "975be9dc-47fc-48e2-9af2-34900c150ac9",
        "id": "LVnyTpSJCQes"
      },
      "execution_count": 6,
      "outputs": [
        {
          "output_type": "stream",
          "name": "stdout",
          "text": [
            "\n",
            "Structure:\n",
            "<class 'pandas.core.frame.DataFrame'>\n",
            "Index: 1191 entries, 1 to 1191\n",
            "Data columns (total 55 columns):\n",
            " #   Column    Non-Null Count  Dtype  \n",
            "---  ------    --------------  -----  \n",
            " 0   STUDYID   1191 non-null   object \n",
            " 1   SITEID    1191 non-null   object \n",
            " 2   USUBJID   1191 non-null   object \n",
            " 3   TRTA      1191 non-null   object \n",
            " 4   TRTAN     1191 non-null   float64\n",
            " 5   AGE       1191 non-null   float64\n",
            " 6   AGEGR1    1191 non-null   object \n",
            " 7   AGEGR1N   1191 non-null   float64\n",
            " 8   RACE      1191 non-null   object \n",
            " 9   RACEN     1191 non-null   float64\n",
            " 10  SEX       1191 non-null   object \n",
            " 11  SAFFL     1191 non-null   object \n",
            " 12  TRTSDT    1191 non-null   float64\n",
            " 13  TRTEDT    1191 non-null   float64\n",
            " 14  ASTDT     1180 non-null   float64\n",
            " 15  ASTDTF    1191 non-null   object \n",
            " 16  ASTDY     1180 non-null   float64\n",
            " 17  AENDT     718 non-null    float64\n",
            " 18  AENDY     718 non-null    float64\n",
            " 19  ADURN     714 non-null    float64\n",
            " 20  ADURU     1191 non-null   object \n",
            " 21  AETERM    1191 non-null   object \n",
            " 22  AELLT     1191 non-null   object \n",
            " 23  AELLTCD   0 non-null      float64\n",
            " 24  AEDECOD   1191 non-null   object \n",
            " 25  AEPTCD    0 non-null      float64\n",
            " 26  AEHLT     1191 non-null   object \n",
            " 27  AEHLTCD   0 non-null      float64\n",
            " 28  AEHLGT    1191 non-null   object \n",
            " 29  AEHLGTCD  0 non-null      float64\n",
            " 30  AEBODSYS  1191 non-null   object \n",
            " 31  AESOC     1191 non-null   object \n",
            " 32  AESOCCD   0 non-null      float64\n",
            " 33  AESEV     1191 non-null   object \n",
            " 34  AESER     1191 non-null   object \n",
            " 35  AESCAN    1191 non-null   object \n",
            " 36  AESCONG   1191 non-null   object \n",
            " 37  AESDISAB  1191 non-null   object \n",
            " 38  AESDTH    1191 non-null   object \n",
            " 39  AESHOSP   1191 non-null   object \n",
            " 40  AESLIFE   1191 non-null   object \n",
            " 41  AESOD     1191 non-null   object \n",
            " 42  AEREL     1191 non-null   object \n",
            " 43  AEACN     1191 non-null   object \n",
            " 44  AEOUT     1191 non-null   object \n",
            " 45  AESEQ     1191 non-null   float64\n",
            " 46  TRTEMFL   1191 non-null   object \n",
            " 47  AOCCFL    1191 non-null   object \n",
            " 48  AOCCSFL   1191 non-null   object \n",
            " 49  AOCCPFL   1191 non-null   object \n",
            " 50  AOCC02FL  1191 non-null   object \n",
            " 51  AOCC03FL  1191 non-null   object \n",
            " 52  AOCC04FL  1191 non-null   object \n",
            " 53  CQ01NAM   1191 non-null   object \n",
            " 54  AOCC01FL  1191 non-null   object \n",
            "dtypes: float64(17), object(38)\n",
            "memory usage: 521.1+ KB\n",
            "None\n",
            "\n",
            "Column Names and Data Types:\n",
            "STUDYID      object\n",
            "SITEID       object\n",
            "USUBJID      object\n",
            "TRTA         object\n",
            "TRTAN       float64\n",
            "AGE         float64\n",
            "AGEGR1       object\n",
            "AGEGR1N     float64\n",
            "RACE         object\n",
            "RACEN       float64\n",
            "SEX          object\n",
            "SAFFL        object\n",
            "TRTSDT      float64\n",
            "TRTEDT      float64\n",
            "ASTDT       float64\n",
            "ASTDTF       object\n",
            "ASTDY       float64\n",
            "AENDT       float64\n",
            "AENDY       float64\n",
            "ADURN       float64\n",
            "ADURU        object\n",
            "AETERM       object\n",
            "AELLT        object\n",
            "AELLTCD     float64\n",
            "AEDECOD      object\n",
            "AEPTCD      float64\n",
            "AEHLT        object\n",
            "AEHLTCD     float64\n",
            "AEHLGT       object\n",
            "AEHLGTCD    float64\n",
            "AEBODSYS     object\n",
            "AESOC        object\n",
            "AESOCCD     float64\n",
            "AESEV        object\n",
            "AESER        object\n",
            "AESCAN       object\n",
            "AESCONG      object\n",
            "AESDISAB     object\n",
            "AESDTH       object\n",
            "AESHOSP      object\n",
            "AESLIFE      object\n",
            "AESOD        object\n",
            "AEREL        object\n",
            "AEACN        object\n",
            "AEOUT        object\n",
            "AESEQ       float64\n",
            "TRTEMFL      object\n",
            "AOCCFL       object\n",
            "AOCCSFL      object\n",
            "AOCCPFL      object\n",
            "AOCC02FL     object\n",
            "AOCC03FL     object\n",
            "AOCC04FL     object\n",
            "CQ01NAM      object\n",
            "AOCC01FL     object\n",
            "dtype: object\n",
            "\n",
            "First Few Rows:\n",
            "        STUDYID SITEID      USUBJID     TRTA  TRTAN   AGE AGEGR1  AGEGR1N  \\\n",
            "1  CDISCPILOT01    701  01-701-1015  Placebo    0.0  63.0    <65      1.0   \n",
            "2  CDISCPILOT01    701  01-701-1015  Placebo    0.0  63.0    <65      1.0   \n",
            "3  CDISCPILOT01    701  01-701-1015  Placebo    0.0  63.0    <65      1.0   \n",
            "4  CDISCPILOT01    701  01-701-1023  Placebo    0.0  64.0    <65      1.0   \n",
            "5  CDISCPILOT01    701  01-701-1023  Placebo    0.0  64.0    <65      1.0   \n",
            "\n",
            "    RACE  RACEN  ... AESEQ TRTEMFL  AOCCFL  AOCCSFL  AOCCPFL AOCC02FL  \\\n",
            "1  WHITE    1.0  ...   1.0       Y       Y        Y        Y            \n",
            "2  WHITE    1.0  ...   2.0       Y                         Y            \n",
            "3  WHITE    1.0  ...   3.0       Y                Y        Y            \n",
            "4  WHITE    1.0  ...   1.0       Y       Y        Y        Y            \n",
            "5  WHITE    1.0  ...   2.0       Y                                      \n",
            "\n",
            "   AOCC03FL  AOCC04FL              CQ01NAM  AOCC01FL  \n",
            "1                      DERMATOLOGIC EVENTS         Y  \n",
            "2                      DERMATOLOGIC EVENTS            \n",
            "3                                                     \n",
            "4                      DERMATOLOGIC EVENTS         Y  \n",
            "5                      DERMATOLOGIC EVENTS            \n",
            "\n",
            "[5 rows x 55 columns]\n"
          ]
        }
      ]
    },
    {
      "cell_type": "code",
      "source": [
        "# Assuming `TRTEMFL` is the flag for treatment-emergent events (values: \"Y\" for Yes)\n",
        "saff_data = ae_data[ae_data['SAFFL'] == 'Y']\n",
        "\n",
        "# Group by treatment arm and severity, and count the number of adverse events\n",
        "ae_summary = saff_data.groupby(['TRTA', 'AESEV']).size().reset_index(name='Count')\n",
        "\n",
        "# Display the summary table\n",
        "print(ae_summary)\n",
        "\n",
        "# Summarize data for overview table\n",
        "overview_table = ae_data.groupby('TRTA').agg(\n",
        "    Total_AEs=('USUBJID', 'count'),\n",
        "    Unique_Subjects=('USUBJID', 'nunique'),\n",
        "    Mild_AEs=('AESEV', lambda x: (x == 'MILD').sum()),\n",
        "    Moderate_AEs=('AESEV', lambda x: (x == 'MODERATE').sum()),\n",
        "    Severe_AEs=('AESEV', lambda x: (x == 'SEVERE').sum())\n",
        ").reset_index()\n",
        "\n",
        "# Display the overview table\n",
        "print(overview_table)"
      ],
      "metadata": {
        "colab": {
          "base_uri": "https://localhost:8080/"
        },
        "outputId": "9f7c930b-9d66-4a64-95e2-21e86771bfea",
        "id": "Zen-8Gk2CbEr"
      },
      "execution_count": 7,
      "outputs": [
        {
          "output_type": "stream",
          "name": "stdout",
          "text": [
            "                   TRTA     AESEV  Count\n",
            "0               Placebo      MILD    219\n",
            "1               Placebo  MODERATE     74\n",
            "2               Placebo    SEVERE      8\n",
            "3  Xanomeline High Dose      MILD    306\n",
            "4  Xanomeline High Dose  MODERATE    139\n",
            "5  Xanomeline High Dose    SEVERE     10\n",
            "6   Xanomeline Low Dose      MILD    245\n",
            "7   Xanomeline Low Dose  MODERATE    165\n",
            "8   Xanomeline Low Dose    SEVERE     25\n",
            "                   TRTA  Total_AEs  Unique_Subjects  Mild_AEs  Moderate_AEs  \\\n",
            "0               Placebo        301               69       219            74   \n",
            "1  Xanomeline High Dose        455               79       306           139   \n",
            "2   Xanomeline Low Dose        435               77       245           165   \n",
            "\n",
            "   Severe_AEs  \n",
            "0           8  \n",
            "1          10  \n",
            "2          25  \n"
          ]
        }
      ]
    },
    {
      "cell_type": "markdown",
      "source": [
        "##Treatment Emergent Adverse Events"
      ],
      "metadata": {
        "id": "eV_YLH3HPpvT"
      }
    },
    {
      "cell_type": "markdown",
      "source": [
        "\n",
        "1. Filter for Treatment-Emergent Events:\n",
        "\n",
        "The TRTEMFL variable is used to identify treatment-emergent events. Only rows where TRTEMFL == 'Y' are included in the filtered dataset (teae_data).\n",
        "\n",
        "\n",
        "\n",
        "2. Change Treatment Variable to TRTA:\n",
        "\n",
        "Replace ARM with TRTA throughout the code to group by treatment arm (TRTA).\n",
        "\n",
        "\n",
        "\n",
        "3. Create Overview Table for TEAEs:\n",
        "\n",
        "The teae_overview table summarizes the total number of TEAEs, unique subjects, and counts of TEAEs by severity."
      ],
      "metadata": {
        "id": "w_vccWZVRvEG"
      }
    },
    {
      "cell_type": "code",
      "source": [
        "# Filter for treatment-emergent adverse events (TEAEs)\n",
        "# Assuming `TRTEMFL` is the flag for treatment-emergent events (values: \"Y\" for Yes)\n",
        "teae_data = ae_data[ae_data['TRTEMFL'] == 'Y']\n",
        "\n",
        "# Group by treatment variable (TRTA) and severity (AESEV), and count the number of TEAEs\n",
        "teae_summary = teae_data.groupby(['TRTA', 'AESEV']).size().reset_index(name='Count')\n",
        "\n",
        "# Display the summary table for TEAEs\n",
        "print(teae_summary)\n",
        "\n",
        "# Create an overview table for TEAEs\n",
        "teae_overview = teae_data.groupby('TRTA').agg(\n",
        "    Total_TEAEs=('USUBJID', 'count'),  # Total number of TEAEs\n",
        "    Unique_Subjects=('USUBJID', 'nunique'),  # Number of unique subjects with TEAEs\n",
        "    Mild_TEAEs=('AESEV', lambda x: (x == 'MILD').sum()),  # Count of mild TEAEs\n",
        "    Moderate_TEAEs=('AESEV', lambda x: (x == 'MODERATE').sum()),  # Count of moderate TEAEs\n",
        "    Severe_TEAEs=('AESEV', lambda x: (x == 'SEVERE').sum())  # Count of severe TEAEs\n",
        ").reset_index()\n",
        "\n",
        "# Display the TEAE overview table\n",
        "print(teae_overview)"
      ],
      "metadata": {
        "colab": {
          "base_uri": "https://localhost:8080/"
        },
        "id": "F3ei-MpKP3LS",
        "outputId": "eaa522f2-b496-4ea5-8341-4fdf41fe41e6"
      },
      "execution_count": 8,
      "outputs": [
        {
          "output_type": "stream",
          "name": "stdout",
          "text": [
            "                   TRTA     AESEV  Count\n",
            "0               Placebo      MILD    210\n",
            "1               Placebo  MODERATE     65\n",
            "2               Placebo    SEVERE      6\n",
            "3  Xanomeline High Dose      MILD    294\n",
            "4  Xanomeline High Dose  MODERATE    129\n",
            "5  Xanomeline High Dose    SEVERE     10\n",
            "6   Xanomeline Low Dose      MILD    227\n",
            "7   Xanomeline Low Dose  MODERATE    160\n",
            "8   Xanomeline Low Dose    SEVERE     25\n",
            "                   TRTA  Total_TEAEs  Unique_Subjects  Mild_TEAEs  \\\n",
            "0               Placebo          281               65         210   \n",
            "1  Xanomeline High Dose          433               76         294   \n",
            "2   Xanomeline Low Dose          412               77         227   \n",
            "\n",
            "   Moderate_TEAEs  Severe_TEAEs  \n",
            "0              65             6  \n",
            "1             129            10  \n",
            "2             160            25  \n"
          ]
        }
      ]
    },
    {
      "cell_type": "markdown",
      "source": [
        "Visualization for TEAEs"
      ],
      "metadata": {
        "id": "TY4WTV9ESefl"
      }
    },
    {
      "cell_type": "code",
      "source": [
        "# Bar plot of treatment-emergent adverse events by severity and treatment arm\n",
        "plt.figure(figsize=(10, 6))\n",
        "sns.barplot(data=teae_summary, x='TRTA', y='Count', hue='AESEV')\n",
        "plt.title('Treatment-Emergent Adverse Events by Severity and Treatment Arm')\n",
        "plt.xlabel('Treatment Arm (TRTA)')\n",
        "plt.ylabel('Number of TEAEs')\n",
        "plt.legend(title='Severity')\n",
        "plt.show()"
      ],
      "metadata": {
        "id": "UOLxXywNShIm"
      },
      "execution_count": null,
      "outputs": []
    },
    {
      "cell_type": "markdown",
      "source": [
        "##Adverse Event by System Organ Class"
      ],
      "metadata": {
        "id": "EAAeObSlSwwT"
      }
    },
    {
      "cell_type": "markdown",
      "source": [
        "Create a summary"
      ],
      "metadata": {
        "id": "_FKmr2DtTIQJ"
      }
    },
    {
      "cell_type": "code",
      "source": [
        "# Group by treatment arm (TRTA) and system organ class (AEBODSYS), and count the number of AEs\n",
        "soc_summary = ae_data.groupby(['TRTA', 'AEBODSYS']).size().reset_index(name='AE_Counts')\n",
        "\n",
        "# Display the summary table\n",
        "print(soc_summary)"
      ],
      "metadata": {
        "id": "ETDjIdApS9zo"
      },
      "execution_count": null,
      "outputs": []
    },
    {
      "cell_type": "markdown",
      "source": [
        "Create table"
      ],
      "metadata": {
        "id": "BjbEfNv0TFPp"
      }
    },
    {
      "cell_type": "code",
      "source": [
        "# Create an overview table for SOC\n",
        "soc_overview = soc_summary.groupby(['TRTA', 'AEBODSYS']).agg(\n",
        "    Total_AEs=('AE_Counts', 'sum')\n",
        ").reset_index()\n",
        "\n",
        "# Display the SOC overview table\n",
        "print(soc_overview)"
      ],
      "metadata": {
        "id": "xXZSsfT3TBNW"
      },
      "execution_count": null,
      "outputs": []
    },
    {
      "cell_type": "markdown",
      "source": [
        "Visualize"
      ],
      "metadata": {
        "id": "qFdyhBm5TMtE"
      }
    },
    {
      "cell_type": "code",
      "source": [
        "import matplotlib.pyplot as plt\n",
        "import seaborn as sns\n",
        "\n",
        "# Sort the data by AE counts\n",
        "soc_summary_sorted = soc_summary.sort_values(by='AE_Counts', ascending=False)\n",
        "\n",
        "# Plot the waterfall chart for SOC by treatment arm\n",
        "plt.figure(figsize=(12, 6))\n",
        "sns.barplot(data=soc_summary_sorted, x='AEBODSYS', y='AE_Counts', hue='TRTA', palette='viridis')\n",
        "plt.title('Waterfall Plot of Adverse Events by System Organ Class and Treatment Arm')\n",
        "plt.xlabel('System Organ Class (AEBODSYS)')\n",
        "plt.ylabel('Number of Adverse Events')\n",
        "plt.xticks(rotation=45, ha='right')  # Rotate labels for better readability\n",
        "plt.legend(title='Treatment Arm (TRTA)')\n",
        "plt.show()"
      ],
      "metadata": {
        "id": "QapNQtwgTOsM"
      },
      "execution_count": null,
      "outputs": []
    },
    {
      "cell_type": "markdown",
      "source": [
        "#GRAPHS"
      ],
      "metadata": {
        "id": "fDqbMS6PTztQ"
      }
    },
    {
      "cell_type": "markdown",
      "source": [
        "#Waterfall Plots/Graphs\n",
        "\n",
        "https://www.storytellingwithdata.com/blog/2020/11/16/what-is-a-waterfall\n",
        "\n",
        "https://pmc.ncbi.nlm.nih.gov/articles/PMC4093310/\n",
        "\n",
        "\n",
        "Waterfall plots are a type of bar chart often used in clinical research to visually display individual patient-level data, particularly changes in a measurable outcome (e.g., tumor size, biomarker levels) over time or relative to a baseline. Each bar represents a single patient, and the bars are typically ordered by the magnitude of change, creating a \"waterfall\" appearance.\n",
        "\n",
        "\n",
        "\n",
        "\n",
        "Key Features of Waterfall Plots\n",
        "Individual Patient Representation: Each bar corresponds to a single patient, making it ideal for presenting individual-level data.\n",
        "Ordered Data: Bars are arranged by the magnitude of change (e.g., largest decrease to largest increase), enabling clear visualization of trends.\n",
        "Positive and Negative Changes: Bars may extend above or below a baseline (e.g., zero), differentiating between positive and negative changes.\n",
        "Threshold Indicators: Often includes markers or thresholds (e.g., lines) to indicate clinically meaningful changes (e.g., tumor shrinkage thresholds like 30% for partial response).\n",
        "\n",
        "\n",
        "\n",
        "\n",
        "Common Uses in Clinical Research\n",
        "Tumor Response: Visualizing changes in tumor size in oncology trials, where bars show shrinkage or growth relative to baseline.\n",
        "Biomarker Analysis: Displaying changes in biomarkers or lab values across patients in a study.\n",
        "Drug Efficacy: Assessing individual patient responses to a treatment, such as reductions in disease activity or symptom severity.\n",
        "Subgroup Analysis: Comparing responses across different patient subgroups or treatment arms.\n",
        "\n",
        "\n",
        "\n",
        "Advantages\n",
        "Individual-Level Insights: Highlights variability in patient responses, allowing researchers to identify outliers or patterns.\n",
        "Clear Visualization: Easily shows the proportion of patients who meet predefined criteria for response (e.g., tumor shrinkage).\n",
        "Facilitates Communication: Provides a straightforward and intuitive way to present complex clinical data to stakeholders.\n",
        "Supports Decision Making: Helps researchers and clinicians assess the effectiveness of treatments across a population.\n",
        "\n",
        "\n",
        "\n",
        "Limitations\n",
        "No Statistical Context: Waterfall plots do not provide statistical measures (e.g., confidence intervals, p-values) to support conclusions.\n",
        "Limited Scalability: Can become visually cluttered and hard to interpret with large datasets.\n",
        "Focus on Magnitude: May overlook other important dimensions of clinical outcomes, such as time to response or durability.\n",
        "Potential for Misinterpretation: Ordering bars by magnitude can obscure temporal trends or subgroup differences.\n",
        "Waterfall plots are particularly useful for oncology trials, where they provide a clear visual summary of treatment responses. However, they should be complemented with other statistical analyses and visualizations for a comprehensive understanding of the data.\n",
        "\n"
      ],
      "metadata": {
        "id": "jc02ugO-UC0e"
      }
    },
    {
      "cell_type": "markdown",
      "source": [
        "##Waterfall Plot for Adverse Events by Subject\n",
        "\n",
        "This plot can show the number of adverse events experienced by each subject, sorted by the total number of events.\n",
        "\n",
        "Steps:\n",
        "\n",
        "Count the number of adverse events (AE) per subject (USUBJID).\n",
        "Sort subjects by the total count.\n",
        "Create a waterfall plot of these counts."
      ],
      "metadata": {
        "id": "jMVeIU9mUKJF"
      }
    },
    {
      "cell_type": "code",
      "source": [
        "import matplotlib.pyplot as plt\n",
        "import seaborn as sns\n",
        "\n",
        "# Count the number of AEs per subject\n",
        "subject_ae_counts = ae_data.groupby('USUBJID').size().reset_index(name='AE_Counts')\n",
        "\n",
        "# Sort by AE count\n",
        "subject_ae_counts = subject_ae_counts.sort_values(by='AE_Counts', ascending=False)\n",
        "\n",
        "# Plot the waterfall chart\n",
        "plt.figure(figsize=(12, 6))\n",
        "sns.barplot(data=subject_ae_counts, x=subject_ae_counts.index, y='AE_Counts', palette='viridis')\n",
        "plt.title('Waterfall Plot of Adverse Events by Subject')\n",
        "plt.xlabel('Subjects (Sorted by AE Count)')\n",
        "plt.ylabel('Number of Adverse Events')\n",
        "plt.xticks([], [])  # Hide x-axis labels for clarity\n",
        "plt.show()"
      ],
      "metadata": {
        "id": "_7OE09cWUSiv"
      },
      "execution_count": null,
      "outputs": []
    },
    {
      "cell_type": "markdown",
      "source": [
        "##Waterfall Plot for Severity Distribution\n",
        "\n",
        "This plot can show the cumulative number of adverse events by severity (AESEV), broken down by treatment arm (TRTA).\n",
        "\n",
        "Steps:\n",
        "\n",
        "Group data by TRTA and AESEV.\n",
        "Calculate the cumulative sum of adverse events for each severity level.\n",
        "Create a stacked waterfall plot."
      ],
      "metadata": {
        "id": "4YL_OFVgUaZ8"
      }
    },
    {
      "cell_type": "code",
      "source": [
        "# Group by treatment arm and severity, and count the number of AEs\n",
        "severity_counts = ae_data.groupby(['TRTA', 'AESEV']).size().reset_index(name='Count')\n",
        "\n",
        "# Sort by treatment and severity\n",
        "severity_counts = severity_counts.sort_values(by=['TRTA', 'AESEV'])\n",
        "\n",
        "# Create a cumulative sum column\n",
        "severity_counts['Cumulative_Count'] = severity_counts.groupby('TRTA')['Count'].cumsum()\n",
        "\n",
        "# Plot the waterfall chart\n",
        "plt.figure(figsize=(12, 6))\n",
        "for trta in severity_counts['TRTA'].unique():\n",
        "    subset = severity_counts[severity_counts['TRTA'] == trta]\n",
        "    plt.bar(subset['AESEV'], subset['Count'], label=trta)\n",
        "\n",
        "plt.title('Waterfall Plot of Adverse Events by Severity and Treatment Arm')\n",
        "plt.xlabel('Severity')\n",
        "plt.ylabel('Cumulative Number of Adverse Events')\n",
        "plt.legend(title='Treatment Arm')\n",
        "plt.show()"
      ],
      "metadata": {
        "id": "rvisiEJ3Uh_L"
      },
      "execution_count": null,
      "outputs": []
    },
    {
      "cell_type": "markdown",
      "source": [
        "##Waterfall Plot for Treatment-Emergent Adverse Events\n",
        "\n",
        "This plot can show the change in the number of treatment-emergent adverse events (TEAEs) across subjects or treatment arms.\n",
        "\n",
        "Steps:\n",
        "\n",
        "Filter for TEAEs (using TRTEMFL == 'Y').\n",
        "Group by TRTA and calculate the cumulative number of TEAEs.\n",
        "Create a waterfall plot."
      ],
      "metadata": {
        "id": "dniuVE-NUmkl"
      }
    },
    {
      "cell_type": "code",
      "source": [
        "# Filter for TEAEs\n",
        "teae_data = ae_data[ae_data['TRTEMFL'] == 'Y']\n",
        "\n",
        "# Group by treatment arm and count TEAEs\n",
        "teae_counts = teae_data.groupby('TRTA').size().reset_index(name='TEAE_Counts')\n",
        "\n",
        "# Sort by count\n",
        "teae_counts = teae_counts.sort_values(by='TEAE_Counts', ascending=False)\n",
        "\n",
        "# Plot the waterfall chart\n",
        "plt.figure(figsize=(10, 6))\n",
        "sns.barplot(data=teae_counts, x='TRTA', y='TEAE_Counts', palette='coolwarm')\n",
        "plt.title('Waterfall Plot of Treatment-Emergent Adverse Events')\n",
        "plt.xlabel('Treatment Arm')\n",
        "plt.ylabel('Number of TEAEs')\n",
        "plt.show()"
      ],
      "metadata": {
        "id": "wCEFy8oCUsNm"
      },
      "execution_count": null,
      "outputs": []
    },
    {
      "cell_type": "markdown",
      "source": [
        "##Waterfall Plot for System Organ Class (SOC)\n",
        "\n",
        "This plot can show the number of adverse events per system organ class (AEBODSYS), sorted by frequency.\n",
        "\n",
        "Steps:\n",
        "\n",
        "Group data by AEBODSYS and count the number of events.\n",
        "Sort by the count.\n",
        "Create a waterfall plot."
      ],
      "metadata": {
        "id": "b0Yawk0_Ux-L"
      }
    },
    {
      "cell_type": "code",
      "source": [
        "# Group by system organ class and count AEs\n",
        "soc_counts = ae_data.groupby('AEBODSYS').size().reset_index(name='AE_Counts')\n",
        "\n",
        "# Sort by AE count\n",
        "soc_counts = soc_counts.sort_values(by='AE_Counts', ascending=False)\n",
        "\n",
        "# Plot the waterfall chart\n",
        "plt.figure(figsize=(12, 6))\n",
        "sns.barplot(data=soc_counts, x='AEBODSYS', y='AE_Counts', palette='magma')\n",
        "plt.title('Waterfall Plot of Adverse Events by System Organ Class')\n",
        "plt.xlabel('System Organ Class')\n",
        "plt.ylabel('Number of Adverse Events')\n",
        "plt.xticks(rotation=45, ha='right')  # Rotate labels for better readability\n",
        "plt.show()"
      ],
      "metadata": {
        "id": "Lv1-TyscU4OT",
        "collapsed": true
      },
      "execution_count": null,
      "outputs": []
    },
    {
      "cell_type": "markdown",
      "source": [
        "#Spider Plots\n",
        "https://www.storytellingwithdata.com/blog/2021/8/31/what-is-a-spider-chart\n",
        "\n",
        "\n",
        "https://pharmasug.org/proceedings/2024/DV/PharmaSUG-2024-DV-186.pdf\n",
        "\n",
        "\n",
        "Spider Plots Explanation\n",
        "\n",
        "Spider plots, also known as radar charts or web charts, are graphical representations used to display multivariate data in the form of a two-dimensional chart. They are especially useful for comparing multiple variables or categories across different entities. Each variable is represented as an axis radiating from a central point, and the values for each entity are plotted along these axes, forming a polygon.\n",
        "\n",
        "Key Features of Spider Plots\n",
        "Axes: Each axis represents a variable or category, and all axes emanate from a central point.\n",
        "\n",
        "Scale: The axes typically have a uniform scale, allowing comparisons across variables.\n",
        "\n",
        "Polygons: The data points are connected to form a polygon, which visually represents the profile of the entity being analyzed.\n",
        "\n",
        "Comparison: Multiple polygons can be plotted on the same chart to compare different entities.\n",
        "\n",
        "\n",
        "Common Uses\n",
        "Performance Analysis: Comparing different products, individuals, or teams based on various metrics.\n",
        "\n",
        "Survey Results: Visualizing responses to multiple questions in surveys.\n",
        "\n",
        "Decision Making: Evaluating options based on multiple criteria.\n",
        "\n",
        "\n",
        "Advantages\n",
        "Provides a visual summary of multivariate data.\n",
        "Useful for identifying strengths and weaknesses across variables.\n",
        "Facilitates easy comparison between entities.\n",
        "Limitations\n",
        "Can become cluttered if there are too many variables or entities.\n",
        "Difficult to interpret if the scales are inconsistent across axes.\n",
        "Spider plots are often used in fields like business analytics, sports performance evaluation, and scientific research.\n"
      ],
      "metadata": {
        "id": "HH7cRQxAXu9F"
      }
    },
    {
      "cell_type": "code",
      "source": [
        "if 'adam_adlb' in sdtm_dataframes:\n",
        "    # Load the dataset\n",
        "    df = sdtm_dataframes['adam_adlb']\n",
        "\n",
        "\n",
        "    # Display basic structure (similar to PROC CONTENTS)\n",
        "    print(\"\\nStructure:\")\n",
        "    print(df.info())\n",
        "\n",
        "    # Display column names and data types\n",
        "    print(\"\\nColumn Names and Data Types:\")\n",
        "    print(df.dtypes)\n",
        "\n",
        "    # Display first few rows\n",
        "    print(\"\\nFirst Few Rows:\")\n",
        "    print(df.head())\n",
        "\n",
        "    adam_adlb=df"
      ],
      "metadata": {
        "id": "nKvdgqzwzoac"
      },
      "execution_count": null,
      "outputs": []
    },
    {
      "cell_type": "markdown",
      "source": [
        "##General Spider Plot"
      ],
      "metadata": {
        "id": "1efkULJt3IAe"
      }
    },
    {
      "cell_type": "code",
      "source": [
        "import pandas as pd\n",
        "import matplotlib.pyplot as plt\n",
        "import numpy as np\n",
        "\n",
        "# Example dataset (replace this with your actual data)\n",
        "data = {\n",
        "    'PARAM': ['Heart Rate', 'Blood Pressure', 'Respiratory Rate', 'Weight', 'Temperature'],\n",
        "    'BASE': [75, 120, 16, 70, 37],\n",
        "    'CHG': [5, -10, 2, 3, 0.5]\n",
        "}\n",
        "df = pd.DataFrame(data)\n",
        "\n",
        "# Calculate percentage change from baseline (PCHG)\n",
        "df['PCHG'] = (df['CHG'] / df['BASE']) * 100\n",
        "\n",
        "# Prepare data for the spider plot\n",
        "categories = df['PARAM'].tolist()\n",
        "values = df['PCHG'].tolist()\n",
        "values += values[:1]  # Repeat the first value to close the circle\n",
        "\n",
        "# Create the spider plot\n",
        "angles = np.linspace(0, 2 * np.pi, len(categories), endpoint=False).tolist()\n",
        "angles += angles[:1]  # Repeat the first angle to close the circle\n",
        "\n",
        "fig, ax = plt.subplots(figsize=(8, 8), subplot_kw=dict(polar=True))\n",
        "ax.plot(angles, values, linewidth=2, linestyle='solid', label='Percentage Change from Baseline')\n",
        "ax.fill(angles, values, alpha=0.4)\n",
        "\n",
        "# Add labels and titles\n",
        "ax.set_yticks(np.arange(-50, 51, 10))  # Adjust based on your data\n",
        "ax.set_yticklabels(['-50%', '-40%', '-30%', '-20%', '-10%', '0%', '10%', '20%', '30%', '40%', '50%'])\n",
        "ax.set_xticks(angles[:-1])\n",
        "ax.set_xticklabels(categories, fontsize=10)\n",
        "ax.set_title('Spider Plot: Percentage Change from Baseline', size=16, pad=20)\n",
        "\n",
        "# Add legend\n",
        "ax.legend(loc='upper right', bbox_to_anchor=(1.2, 1.2))\n",
        "plt.show()"
      ],
      "metadata": {
        "id": "n8_-T3OG2biv"
      },
      "execution_count": null,
      "outputs": []
    },
    {
      "cell_type": "markdown",
      "source": [
        "##Spider Plot of Change from Baseline for Lab Data"
      ],
      "metadata": {
        "id": "WhPVtaDc3LzB"
      }
    },
    {
      "cell_type": "code",
      "source": [
        "import pandas as pd\n",
        "import matplotlib.pyplot as plt\n",
        "import numpy as np\n",
        "\n",
        "# Example dataset (replace with your actual data from adam_adlb)\n",
        "data = {\n",
        "    'PARAM': ['Hemoglobin', 'WBC Count', 'Platelet Count', 'Glucose', 'Creatinine'],\n",
        "    'PCHG': [10, -5, 8, 15, -3],\n",
        "    'TRTA': ['Treatment A'] * 5\n",
        "}\n",
        "df = pd.DataFrame(data)\n",
        "\n",
        "# Prepare data for the spider plot\n",
        "categories = df['PARAM'].tolist()\n",
        "values = df['PCHG'].tolist()\n",
        "values += values[:1]  # Repeat the first value to close the circle\n",
        "\n",
        "# Create the spider plot\n",
        "angles = np.linspace(0, 2 * np.pi, len(categories), endpoint=False).tolist()\n",
        "angles += angles[:1]  # Repeat the first angle to close the circle\n",
        "\n",
        "fig, ax = plt.subplots(figsize=(8, 8), subplot_kw=dict(polar=True))\n",
        "ax.plot(angles, values, linewidth=2, linestyle='solid', label='Treatment A')\n",
        "ax.fill(angles, values, alpha=0.4)\n",
        "\n",
        "# Add labels and titles\n",
        "ax.set_yticks(np.arange(-50, 51, 10))  # Adjust based on your data\n",
        "ax.set_yticklabels(['-50%', '-40%', '-30%', '-20%', '-10%', '0%', '10%', '20%', '30%', '40%', '50%'])\n",
        "ax.set_xticks(angles[:-1])\n",
        "ax.set_xticklabels(categories, fontsize=10)\n",
        "ax.set_title('Spider Plot: Percentage Change from Baseline', size=16, pad=20)\n",
        "\n",
        "# Add legend\n",
        "ax.legend(loc='upper right', bbox_to_anchor=(1.2, 1.2))\n",
        "plt.show()"
      ],
      "metadata": {
        "id": "SqvICM5k2gIX"
      },
      "execution_count": null,
      "outputs": []
    },
    {
      "cell_type": "code",
      "source": [
        "for treatment in df['TRTA'].unique():\n",
        "    group_data = df[df['TRTA'] == treatment]\n",
        "    # Repeat the plotting steps for each group\n",
        "\n",
        "    import plotly.express as px\n",
        "fig = px.line_polar(df, r='PCHG', theta='PARAM', line_close=True)\n",
        "fig.show()"
      ],
      "metadata": {
        "id": "N-LFMl_U2roo"
      },
      "execution_count": null,
      "outputs": []
    }
  ],
  "metadata": {
    "colab": {
      "provenance": [],
      "toc_visible": true,
      "name": "updated-tfl-and-graph-detailed-hands-on.ipynb - Anya K",
      "include_colab_link": true
    },
    "kernelspec": {
      "display_name": "Python 3",
      "name": "python3"
    },
    "language_info": {
      "name": "python"
    }
  },
  "nbformat": 4,
  "nbformat_minor": 0
}